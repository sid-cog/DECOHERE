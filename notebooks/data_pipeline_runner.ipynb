{
 "cells": [
  {
   "cell_type": "code",
   "execution_count": 1,
   "metadata": {},
   "outputs": [
    {
     "name": "stdout",
     "output_type": "stream",
     "text": [
      "Project root: /home/siddharth.johri/DECOHERE\n"
     ]
    }
   ],
   "source": [
    "# First cell - Setup and Imports\n",
    "import os\n",
    "import sys\n",
    "from pathlib import Path\n",
    "from datetime import datetime, timedelta\n",
    "from IPython.display import display, HTML\n",
    "import ipywidgets as widgets\n",
    "import pandas as pd\n",
    "\n",
    "# Get the correct project root (DECOHERE directory)\n",
    "project_root = '/home/siddharth.johri/DECOHERE'\n",
    "print(f\"Project root: {project_root}\")  # Debug print\n",
    "\n",
    "# Add project root to path\n",
    "sys.path.append(project_root)\n",
    "\n",
    "# Import PipelineManager\n",
    "from src.pipeline.pipeline_manager import PipelineManager\n",
    "\n",
    "# Initialize manager\n",
    "manager = PipelineManager(project_root)"
   ]
  },
  {
   "cell_type": "code",
   "execution_count": 2,
   "metadata": {},
   "outputs": [
    {
     "data": {
      "text/html": [
       "\n",
       "<h3>System Resources</h3>\n",
       "<ul>\n",
       "    <li>CPU Cores: 8</li>\n",
       "    <li>Available Memory: 45.29 GB</li>\n",
       "    <li>Memory per Worker: 2.83 GB</li>\n",
       "    <li>Optimal Workers: 8</li>\n",
       "</ul>\n"
      ],
      "text/plain": [
       "<IPython.core.display.HTML object>"
      ]
     },
     "metadata": {},
     "output_type": "display_data"
    }
   ],
   "source": [
    "# Display system resources\n",
    "resources = manager.get_system_resources()\n",
    "display(HTML(f\"\"\"\n",
    "<h3>System Resources</h3>\n",
    "<ul>\n",
    "    <li>CPU Cores: {resources['cpu_cores']}</li>\n",
    "    <li>Available Memory: {resources['available_memory']:.2f} GB</li>\n",
    "    <li>Memory per Worker: {resources['memory_per_worker']:.2f} GB</li>\n",
    "    <li>Optimal Workers: {resources['optimal_workers']}</li>\n",
    "</ul>\n",
    "\"\"\"))"
   ]
  },
  {
   "cell_type": "code",
   "execution_count": 3,
   "metadata": {},
   "outputs": [
    {
     "data": {
      "application/vnd.jupyter.widget-view+json": {
       "model_id": "3409826c8e204ced94c444cd72288f8e",
       "version_major": 2,
       "version_minor": 0
      },
      "text/plain": [
       "VBox(children=(HBox(children=(DatePicker(value=datetime.datetime(2024, 9, 2, 0, 0), description='Start Date', …"
      ]
     },
     "metadata": {},
     "output_type": "display_data"
    }
   ],
   "source": [
    "# Create date pickers\n",
    "start_date = widgets.DatePicker(\n",
    "    description='Start Date',\n",
    "    value=datetime(2024, 9, 2),  # Set to September 2, 2024\n",
    "    disabled=False\n",
    ")\n",
    "\n",
    "end_date = widgets.DatePicker(\n",
    "    description='End Date',\n",
    "     value=datetime(2024, 9, 2),  # Set to September 2, 2024\n",
    "    disabled=False\n",
    ")\n",
    "\n",
    "num_workers = widgets.IntSlider(\n",
    "    description='No of Workers',\n",
    "    value=resources['optimal_workers'],\n",
    "    min=1,\n",
    "    max=resources['cpu_cores'] * 2,  # Allow up to logical cores\n",
    "    step=1\n",
    ")\n",
    "\n",
    "# Create a VBox to display widgets vertically\n",
    "config_widgets = widgets.VBox([\n",
    "    widgets.HBox([start_date, end_date]),  # Put date pickers side by side\n",
    "    num_workers\n",
    "])\n",
    "\n",
    "# Display the widgets\n",
    "display(config_widgets)"
   ]
  },
  {
   "cell_type": "code",
   "execution_count": 4,
   "metadata": {},
   "outputs": [
    {
     "data": {
      "application/vnd.jupyter.widget-view+json": {
       "model_id": "0df1bdb7a14340c78c784f458d42800e",
       "version_major": 2,
       "version_minor": 0
      },
      "text/plain": [
       "Button(description='Run Pipeline', style=ButtonStyle())"
      ]
     },
     "metadata": {},
     "output_type": "display_data"
    },
    {
     "data": {
      "application/vnd.jupyter.widget-view+json": {
       "model_id": "02ded7eed779451987b4408d9e71e21b",
       "version_major": 2,
       "version_minor": 0
      },
      "text/plain": [
       "Output()"
      ]
     },
     "metadata": {},
     "output_type": "display_data"
    }
   ],
   "source": [
    "# Create run button and output area\n",
    "run_button = widgets.Button(description='Run Pipeline')\n",
    "output = widgets.Output()\n",
    "\n",
    "def on_run_button_clicked(b):\n",
    "    with output:\n",
    "        print(f\"Starting pipeline execution...\")\n",
    "        results_df = manager.run_pipeline(\n",
    "            start_date.value,\n",
    "            end_date.value,\n",
    "            num_workers.value\n",
    "        )\n",
    "        \n",
    "        # Display results\n",
    "        display(results_df)\n",
    "        \n",
    "        # Plot execution times\n",
    "        manager.plot_execution_times(results_df)\n",
    "\n",
    "run_button.on_click(on_run_button_clicked)\n",
    "display(run_button, output)"
   ]
  },
  {
   "cell_type": "code",
   "execution_count": 6,
   "metadata": {},
   "outputs": [
    {
     "data": {
      "application/vnd.jupyter.widget-view+json": {
       "model_id": "970541c023384ae2b6f9f6ae17aeb1fb",
       "version_major": 2,
       "version_minor": 0
      },
      "text/plain": [
       "Button(description='Check Results', style=ButtonStyle())"
      ]
     },
     "metadata": {},
     "output_type": "display_data"
    },
    {
     "data": {
      "application/vnd.jupyter.widget-view+json": {
       "model_id": "e892ef12a1004648abccff4457e8a9cf",
       "version_major": 2,
       "version_minor": 0
      },
      "text/plain": [
       "Output()"
      ]
     },
     "metadata": {},
     "output_type": "display_data"
    }
   ],
   "source": [
    "# Create check results button and output area\n",
    "check_button = widgets.Button(description='Check Results')\n",
    "results_output = widgets.Output()\n",
    "\n",
    "def on_check_button_clicked(b):\n",
    "    with results_output:\n",
    "        results_df = manager.get_latest_results()\n",
    "        if results_df is not None:\n",
    "            manager.display_results_summary(results_df)\n",
    "            display(results_df)\n",
    "        else:\n",
    "            print(\"No results found\")\n",
    "\n",
    "check_button.on_click(on_check_button_clicked)\n",
    "display(check_button, results_output)"
   ]
  },
  {
   "cell_type": "code",
   "execution_count": null,
   "metadata": {},
   "outputs": [],
   "source": []
  }
 ],
 "metadata": {
  "kernelspec": {
   "display_name": "venv",
   "language": "python",
   "name": "python3"
  },
  "language_info": {
   "codemirror_mode": {
    "name": "ipython",
    "version": 3
   },
   "file_extension": ".py",
   "mimetype": "text/x-python",
   "name": "python",
   "nbconvert_exporter": "python",
   "pygments_lexer": "ipython3",
   "version": "3.11.2"
  }
 },
 "nbformat": 4,
 "nbformat_minor": 2
}
